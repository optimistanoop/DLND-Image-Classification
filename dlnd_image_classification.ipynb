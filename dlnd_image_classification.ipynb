{
 "cells": [
  {
   "cell_type": "markdown",
   "metadata": {
    "collapsed": true,
    "deletable": true,
    "editable": true
   },
   "source": [
    "# Image Classification\n",
    "In this project, you'll classify images from the [CIFAR-10 dataset](https://www.cs.toronto.edu/~kriz/cifar.html).  The dataset consists of airplanes, dogs, cats, and other objects. You'll preprocess the images, then train a convolutional neural network on all the samples. The images need to be normalized and the labels need to be one-hot encoded.  You'll get to apply what you learned and build a convolutional, max pooling, dropout, and fully connected layers.  At the end, you'll get to see your neural network's predictions on the sample images.\n",
    "## Get the Data\n",
    "Run the following cell to download the [CIFAR-10 dataset for python](https://www.cs.toronto.edu/~kriz/cifar-10-python.tar.gz)."
   ]
  },
  {
   "cell_type": "code",
   "execution_count": 1,
   "metadata": {
    "collapsed": false,
    "deletable": true,
    "editable": true
   },
   "outputs": [
    {
     "name": "stdout",
     "output_type": "stream",
     "text": [
      "All files found!\n"
     ]
    }
   ],
   "source": [
    "\"\"\"\n",
    "DON'T MODIFY ANYTHING IN THIS CELL THAT IS BELOW THIS LINE\n",
    "\"\"\"\n",
    "from urllib.request import urlretrieve\n",
    "from os.path import isfile, isdir\n",
    "from tqdm import tqdm\n",
    "import problem_unittests as tests\n",
    "import tarfile\n",
    "\n",
    "cifar10_dataset_folder_path = 'cifar-10-batches-py'\n",
    "\n",
    "# Use Floyd's cifar-10 dataset if present\n",
    "floyd_cifar10_location = '/input/cifar-10/python.tar.gz'\n",
    "if isfile(floyd_cifar10_location):\n",
    "    tar_gz_path = floyd_cifar10_location\n",
    "else:\n",
    "    tar_gz_path = 'cifar-10-python.tar.gz'\n",
    "\n",
    "class DLProgress(tqdm):\n",
    "    last_block = 0\n",
    "\n",
    "    def hook(self, block_num=1, block_size=1, total_size=None):\n",
    "        self.total = total_size\n",
    "        self.update((block_num - self.last_block) * block_size)\n",
    "        self.last_block = block_num\n",
    "\n",
    "if not isfile(tar_gz_path):\n",
    "    with DLProgress(unit='B', unit_scale=True, miniters=1, desc='CIFAR-10 Dataset') as pbar:\n",
    "        urlretrieve(\n",
    "            'https://www.cs.toronto.edu/~kriz/cifar-10-python.tar.gz',\n",
    "            tar_gz_path,\n",
    "            pbar.hook)\n",
    "\n",
    "if not isdir(cifar10_dataset_folder_path):\n",
    "    with tarfile.open(tar_gz_path) as tar:\n",
    "        tar.extractall()\n",
    "        tar.close()\n",
    "\n",
    "\n",
    "tests.test_folder_path(cifar10_dataset_folder_path)"
   ]
  },
  {
   "cell_type": "markdown",
   "metadata": {
    "deletable": true,
    "editable": true
   },
   "source": [
    "## Explore the Data\n",
    "The dataset is broken into batches to prevent your machine from running out of memory.  The CIFAR-10 dataset consists of 5 batches, named `data_batch_1`, `data_batch_2`, etc.. Each batch contains the labels and images that are one of the following:\n",
    "* airplane\n",
    "* automobile\n",
    "* bird\n",
    "* cat\n",
    "* deer\n",
    "* dog\n",
    "* frog\n",
    "* horse\n",
    "* ship\n",
    "* truck\n",
    "\n",
    "Understanding a dataset is part of making predictions on the data.  Play around with the code cell below by changing the `batch_id` and `sample_id`. The `batch_id` is the id for a batch (1-5). The `sample_id` is the id for a image and label pair in the batch.\n",
    "\n",
    "Ask yourself \"What are all possible labels?\", \"What is the range of values for the image data?\", \"Are the labels in order or random?\".  Answers to questions like these will help you preprocess the data and end up with better predictions."
   ]
  },
  {
   "cell_type": "code",
   "execution_count": 2,
   "metadata": {
    "collapsed": false,
    "deletable": true,
    "editable": true
   },
   "outputs": [
    {
     "name": "stdout",
     "output_type": "stream",
     "text": [
      "\n",
      "Stats of batch 1:\n",
      "Samples: 10000\n",
      "Label Counts: {0: 1005, 1: 974, 2: 1032, 3: 1016, 4: 999, 5: 937, 6: 1030, 7: 1001, 8: 1025, 9: 981}\n",
      "First 20 Labels: [6, 9, 9, 4, 1, 1, 2, 7, 8, 3, 4, 7, 7, 2, 9, 9, 9, 3, 2, 6]\n",
      "\n",
      "Example of Image 5:\n",
      "Image - Min Value: 0 Max Value: 252\n",
      "Image - Shape: (32, 32, 3)\n",
      "Label - Label Id: 1 Name: automobile\n"
     ]
    },
    {
     "data": {
      "image/png": "[encoded data removed]",
      "text/plain": [
       "<matplotlib.figure.Figure at 0x7f8eafe46588>"
      ]
     },
     "metadata": {
      "image/png": {
       "height": 250,
       "width": 253
      }
     },
     "output_type": "display_data"
    }
   ],
   "source": [
    "%matplotlib inline\n",
    "%config InlineBackend.figure_format = 'retina'\n",
    "\n",
    "import helper\n",
    "import numpy as np\n",
    "\n",
    "# Explore the dataset\n",
    "batch_id = 1\n",
    "sample_id = 5\n",
    "helper.display_stats(cifar10_dataset_folder_path, batch_id, sample_id)"
   ]
  },
  {
   "cell_type": "markdown",
   "metadata": {
    "deletable": true,
    "editable": true
   },
   "source": [
    "## Implement Preprocess Functions\n",
    "### Normalize\n",
    "In the cell below, implement the `normalize` function to take in image data, `x`, and return it as a normalized Numpy array. The values should be in the range of 0 to 1, inclusive.  The return object should be the same shape as `x`."
   ]
  },
  {
   "cell_type": "code",
   "execution_count": 3,
   "metadata": {
    "collapsed": false,
    "deletable": true,
    "editable": true
   },
   "outputs": [
    {
     "name": "stdout",
     "output_type": "stream",
     "text": [
      "Tests Passed\n"
     ]
    }
   ],
   "source": [
    "def normalize(x):\n",
    "    \"\"\"\n",
    "    Normalize a list of sample image data in the range of 0 to 1\n",
    "    : x: List of image data.  The image shape is (32, 32, 3)\n",
    "    : return: Numpy array of normalize data\n",
    "    \"\"\"\n",
    "    # TODO: Implement Function\n",
    "    minimum = np.min(x)\n",
    "    maximum = np.max(x)\n",
    "    result = (x - minimum)/(maximum - minimum)\n",
    "    return result\n",
    "\n",
    "\n",
    "\"\"\"\n",
    "DON'T MODIFY ANYTHING IN THIS CELL THAT IS BELOW THIS LINE\n",
    "\"\"\"\n",
    "tests.test_normalize(normalize)"
   ]
  },
  {
   "cell_type": "markdown",
   "metadata": {
    "deletable": true,
    "editable": true
   },
   "source": [
    "### One-hot encode\n",
    "Just like the previous code cell, you'll be implementing a function for preprocessing.  This time, you'll implement the `one_hot_encode` function. The input, `x`, are a list of labels.  Implement the function to return the list of labels as One-Hot encoded Numpy array.  The possible values for labels are 0 to 9. The one-hot encoding function should return the same encoding for each value between each call to `one_hot_encode`.  Make sure to save the map of encodings outside the function.\n",
    "\n",
    "Hint: Don't reinvent the wheel."
   ]
  },
  {
   "cell_type": "code",
   "execution_count": 4,
   "metadata": {
    "collapsed": false,
    "deletable": true,
    "editable": true
   },
   "outputs": [
    {
     "name": "stdout",
     "output_type": "stream",
     "text": [
      "Tests Passed\n"
     ]
    }
   ],
   "source": [
    "def one_hot_encode(x):\n",
    "    \"\"\"\n",
    "    One hot encode a list of sample labels. Return a one-hot encoded vector for each label.\n",
    "    : x: List of sample Labels\n",
    "    : return: Numpy array of one-hot encoded labels\n",
    "    \"\"\"\n",
    "    # TODO: Implement Function\n",
    "    return np.eye(10)[x]\n",
    "\n",
    "\n",
    "\"\"\"\n",
    "DON'T MODIFY ANYTHING IN THIS CELL THAT IS BELOW THIS LINE\n",
    "\"\"\"\n",
    "tests.test_one_hot_encode(one_hot_encode)"
   ]
  },
  {
   "cell_type": "markdown",
   "metadata": {
    "deletable": true,
    "editable": true
   },
   "source": [
    "### Randomize Data\n",
    "As you saw from exploring the data above, the order of the samples are randomized.  It doesn't hurt to randomize it again, but you don't need to for this dataset."
   ]
  },
  {
   "cell_type": "markdown",
   "metadata": {
    "deletable": true,
    "editable": true
   },
   "source": [
    "## Preprocess all the data and save it\n",
    "Running the code cell below will preprocess all the CIFAR-10 data and save it to file. The code below also uses 10% of the training data for validation."
   ]
  },
  {
   "cell_type": "code",
   "execution_count": 5,
   "metadata": {
    "collapsed": false,
    "deletable": true,
    "editable": true
   },
   "outputs": [],
   "source": [
    "\"\"\"\n",
    "DON'T MODIFY ANYTHING IN THIS CELL\n",
    "\"\"\"\n",
    "# Preprocess Training, Validation, and Testing Data\n",
    "helper.preprocess_and_save_data(cifar10_dataset_folder_path, normalize, one_hot_encode)"
   ]
  },
  {
   "cell_type": "markdown",
   "metadata": {
    "deletable": true,
    "editable": true
   },
   "source": [
    "# Check Point\n",
    "This is your first checkpoint.  If you ever decide to come back to this notebook or have to restart the notebook, you can start from here.  The preprocessed data has been saved to disk."
   ]
  },
  {
   "cell_type": "code",
   "execution_count": 6,
   "metadata": {
    "collapsed": true,
    "deletable": true,
    "editable": true
   },
   "outputs": [],
   "source": [
    "\"\"\"\n",
    "DON'T MODIFY ANYTHING IN THIS CELL\n",
    "\"\"\"\n",
    "import pickle\n",
    "import problem_unittests as tests\n",
    "import helper\n",
    "\n",
    "# Load the Preprocessed Validation data\n",
    "valid_features, valid_labels = pickle.load(open('preprocess_validation.p', mode='rb'))"
   ]
  },
  {
   "cell_type": "markdown",
   "metadata": {
    "deletable": true,
    "editable": true
   },
   "source": [
    "## Build the network\n",
    "For the neural network, you'll build each layer into a function.  Most of the code you've seen has been outside of functions. To test your code more thoroughly, we require that you put each layer in a function.  This allows us to give you better feedback and test for simple mistakes using our unittests before you submit your project.\n",
    "\n",
    ">**Note:** If you're finding it hard to dedicate enough time for this course each week, we've provided a small shortcut to this part of the project. In the next couple of problems, you'll have the option to use classes from the [TensorFlow Layers](https://www.tensorflow.org/api_docs/python/tf/layers) or [TensorFlow Layers (contrib)](https://www.tensorflow.org/api_guides/python/contrib.layers) packages to build each layer, except the layers you build in the \"Convolutional and Max Pooling Layer\" section.  TF Layers is similar to Keras's and TFLearn's abstraction to layers, so it's easy to pickup.\n",
    "\n",
    ">However, if you would like to get the most out of this course, try to solve all the problems _without_ using anything from the TF Layers packages. You **can** still use classes from other packages that happen to have the same name as ones you find in TF Layers! For example, instead of using the TF Layers version of the `conv2d` class, [tf.layers.conv2d](https://www.tensorflow.org/api_docs/python/tf/layers/conv2d), you would want to use the TF Neural Network version of `conv2d`, [tf.nn.conv2d](https://www.tensorflow.org/api_docs/python/tf/nn/conv2d). \n",
    "\n",
    "Let's begin!\n",
    "\n",
    "### Input\n",
    "The neural network needs to read the image data, one-hot encoded labels, and dropout keep probability. Implement the following functions\n",
    "* Implement `neural_net_image_input`\n",
    " * Return a [TF Placeholder](https://www.tensorflow.org/api_docs/python/tf/placeholder)\n",
    " * Set the shape using `image_shape` with batch size set to `None`.\n",
    " * Name the TensorFlow placeholder \"x\" using the TensorFlow `name` parameter in the [TF Placeholder](https://www.tensorflow.org/api_docs/python/tf/placeholder).\n",
    "* Implement `neural_net_label_input`\n",
    " * Return a [TF Placeholder](https://www.tensorflow.org/api_docs/python/tf/placeholder)\n",
    " * Set the shape using `n_classes` with batch size set to `None`.\n",
    " * Name the TensorFlow placeholder \"y\" using the TensorFlow `name` parameter in the [TF Placeholder](https://www.tensorflow.org/api_docs/python/tf/placeholder).\n",
    "* Implement `neural_net_keep_prob_input`\n",
    " * Return a [TF Placeholder](https://www.tensorflow.org/api_docs/python/tf/placeholder) for dropout keep probability.\n",
    " * Name the TensorFlow placeholder \"keep_prob\" using the TensorFlow `name` parameter in the [TF Placeholder](https://www.tensorflow.org/api_docs/python/tf/placeholder).\n",
    "\n",
    "These names will be used at the end of the project to load your saved model.\n",
    "\n",
    "Note: `None` for shapes in TensorFlow allow for a dynamic size."
   ]
  },
  {
   "cell_type": "code",
   "execution_count": 7,
   "metadata": {
    "collapsed": false,
    "deletable": true,
    "editable": true
   },
   "outputs": [
    {
     "name": "stdout",
     "output_type": "stream",
     "text": [
      "Image Input Tests Passed.\n",
      "Label Input Tests Passed.\n",
      "Keep Prob Tests Passed.\n"
     ]
    }
   ],
   "source": [
    "import tensorflow as tf\n",
    "\n",
    "def neural_net_image_input(image_shape):\n",
    "    \"\"\"\n",
    "    Return a Tensor for a bach of image input\n",
    "    : image_shape: Shape of the images\n",
    "    : return: Tensor for image input.\n",
    "    \"\"\"\n",
    "    # TODO: Implement Function\n",
    "    return tf.placeholder(tf.float32, [None, *image_shape], name='x')\n",
    "\n",
    "\n",
    "def neural_net_label_input(n_classes):\n",
    "    \"\"\"\n",
    "    Return a Tensor for a batch of label input\n",
    "    : n_classes: Number of classes\n",
    "    : return: Tensor for label input.\n",
    "    \"\"\"\n",
    "    # TODO: Implement Function\n",
    "    return tf.placeholder(tf.float32, [None, n_classes], name='y')\n",
    "\n",
    "\n",
    "def neural_net_keep_prob_input():\n",
    "    \"\"\"\n",
    "    Return a Tensor for keep probability\n",
    "    : return: Tensor for keep probability.\n",
    "    \"\"\"\n",
    "    # TODO: Implement Function\n",
    "    return tf.placeholder(tf.float32, name='keep_prob')\n",
    "\n",
    "\n",
    "\"\"\"\n",
    "DON'T MODIFY ANYTHING IN THIS CELL THAT IS BELOW THIS LINE\n",
    "\"\"\"\n",
    "tf.reset_default_graph()\n",
    "tests.test_nn_image_inputs(neural_net_image_input)\n",
    "tests.test_nn_label_inputs(neural_net_label_input)\n",
    "tests.test_nn_keep_prob_inputs(neural_net_keep_prob_input)"
   ]
  },
  {
   "cell_type": "markdown",
   "metadata": {
    "deletable": true,
    "editable": true
   },
   "source": [
    "### Convolution and Max Pooling Layer\n",
    "Convolution layers have a lot of success with images. For this code cell, you should implement the function `conv2d_maxpool` to apply convolution then max pooling:\n",
    "* Create the weight and bias using `conv_ksize`, `conv_num_outputs` and the shape of `x_tensor`.\n",
    "* Apply a convolution to `x_tensor` using weight and `conv_strides`.\n",
    " * We recommend you use same padding, but you're welcome to use any padding.\n",
    "* Add bias\n",
    "* Add a nonlinear activation to the convolution.\n",
    "* Apply Max Pooling using `pool_ksize` and `pool_strides`.\n",
    " * We recommend you use same padding, but you're welcome to use any padding.\n",
    "\n",
    "**Note:** You **can't** use [TensorFlow Layers](https://www.tensorflow.org/api_docs/python/tf/layers) or [TensorFlow Layers (contrib)](https://www.tensorflow.org/api_guides/python/contrib.layers) for **this** layer, but you can still use TensorFlow's [Neural Network](https://www.tensorflow.org/api_docs/python/tf/nn) package. You may still use the shortcut option for all the **other** layers."
   ]
  },
  {
   "cell_type": "code",
   "execution_count": 9,
   "metadata": {
    "collapsed": false,
    "deletable": true,
    "editable": true
   },
   "outputs": [
    {
     "name": "stdout",
     "output_type": "stream",
     "text": [
      "Tests Passed\n"
     ]
    }
   ],
   "source": [
    "def conv2d_maxpool(x_tensor, conv_num_outputs, conv_ksize, conv_strides, pool_ksize, pool_strides):\n",
    "    \"\"\"\n",
    "    Apply convolution then max pooling to x_tensor\n",
    "    :param x_tensor: TensorFlow Tensor\n",
    "    :param conv_num_outputs: Number of outputs for the convolutional layer\n",
    "    :param conv_ksize: kernal size 2-D Tuple for the convolutional layer\n",
    "    :param conv_strides: Stride 2-D Tuple for convolution\n",
    "    :param pool_ksize: kernal size 2-D Tuple for pool\n",
    "    :param pool_strides: Stride 2-D Tuple for pool\n",
    "    : return: A tensor that represents convolution and max pooling of x_tensor\n",
    "    \"\"\"\n",
    "    # TODO: Implement Function\n",
    "    i_d = int(x_tensor.get_shape()[3])\n",
    "    o_d = conv_num_outputs\n",
    "    w_s = [*conv_ksize, i_d, o_d]\n",
    "    w = tf.Variable(tf.random_normal(w_s, stddev=0.1))\n",
    "    b = tf.Variable(tf.zeros(o_d))\n",
    "    conv_strides = [1, *conv_strides, 1]\n",
    "    x = tf.nn.conv2d(x_tensor, w, strides=conv_strides, padding='SAME')\n",
    "    x = tf.nn.bias_add(x, b)\n",
    "    x = tf.nn.relu(x)\n",
    "    pool_ksize = [1, *pool_ksize, 1]\n",
    "    pool_strides = [1, *pool_strides, 1]\n",
    "    x = tf.nn.max_pool(x, pool_ksize, pool_strides, padding='SAME')\n",
    "    return x \n",
    "\n",
    "\n",
    "\"\"\"\n",
    "DON'T MODIFY ANYTHING IN THIS CELL THAT IS BELOW THIS LINE\n",
    "\"\"\"\n",
    "tests.test_con_pool(conv2d_maxpool)"
   ]
  },
  {
   "cell_type": "markdown",
   "metadata": {
    "deletable": true,
    "editable": true
   },
   "source": [
    "### Flatten Layer\n",
    "Implement the `flatten` function to change the dimension of `x_tensor` from a 4-D tensor to a 2-D tensor.  The output should be the shape (*Batch Size*, *Flattened Image Size*). Shortcut option: you can use classes from the [TensorFlow Layers](https://www.tensorflow.org/api_docs/python/tf/layers) or [TensorFlow Layers (contrib)](https://www.tensorflow.org/api_guides/python/contrib.layers) packages for this layer. For more of a challenge, only use other TensorFlow packages."
   ]
  },
  {
   "cell_type": "code",
   "execution_count": 10,
   "metadata": {
    "collapsed": false,
    "deletable": true,
    "editable": true
   },
   "outputs": [
    {
     "name": "stdout",
     "output_type": "stream",
     "text": [
      "Tests Passed\n"
     ]
    }
   ],
   "source": [
    "def flatten(x_tensor):\n",
    "    \"\"\"\n",
    "    Flatten x_tensor to (Batch Size, Flattened Image Size)\n",
    "    : x_tensor: A tensor of size (Batch Size, ...), where ... are the image dimensions.\n",
    "    : return: A tensor of size (Batch Size, Flattened Image Size).\n",
    "    \"\"\"\n",
    "    batch_size, *img_size = x_tensor.get_shape().as_list()\n",
    "    img_size = img_size[0] * img_size[1] * img_size[2]\n",
    "    result = tf.reshape(x_tensor, [-1, img_size])\n",
    "    return result\n",
    "\n",
    "\n",
    "\"\"\"\n",
    "DON'T MODIFY ANYTHING IN THIS CELL THAT IS BELOW THIS LINE\n",
    "\"\"\"\n",
    "tests.test_flatten(flatten)"
   ]
  },
  {
   "cell_type": "markdown",
   "metadata": {
    "deletable": true,
    "editable": true
   },
   "source": [
    "### Fully-Connected Layer\n",
    "Implement the `fully_conn` function to apply a fully connected layer to `x_tensor` with the shape (*Batch Size*, *num_outputs*). Shortcut option: you can use classes from the [TensorFlow Layers](https://www.tensorflow.org/api_docs/python/tf/layers) or [TensorFlow Layers (contrib)](https://www.tensorflow.org/api_guides/python/contrib.layers) packages for this layer. For more of a challenge, only use other TensorFlow packages."
   ]
  },
  {
   "cell_type": "code",
   "execution_count": 11,
   "metadata": {
    "collapsed": false,
    "deletable": true,
    "editable": true
   },
   "outputs": [
    {
     "name": "stdout",
     "output_type": "stream",
     "text": [
      "Tests Passed\n"
     ]
    }
   ],
   "source": [
    "def fully_conn(x_tensor, num_outputs):\n",
    "    \"\"\"\n",
    "    Apply a fully connected layer to x_tensor using weight and bias\n",
    "    : x_tensor: A 2-D tensor where the first dimension is batch size.\n",
    "    : num_outputs: The number of output that the new tensor should be.\n",
    "    : return: A 2-D tensor where the second dimension is num_outputs.\n",
    "    \"\"\"\n",
    "    w_shape = (int(x_tensor.get_shape().as_list()[1]), num_outputs)\n",
    "    w = tf.Variable(tf.random_normal(w_shape, stddev=0.1))\n",
    "    b = tf.Variable(tf.zeros(num_outputs))\n",
    "    x = tf.add(tf.matmul(x_tensor, w), b)\n",
    "    x = tf.nn.relu(x)\n",
    "    return x\n",
    "\n",
    "\n",
    "\"\"\"\n",
    "DON'T MODIFY ANYTHING IN THIS CELL THAT IS BELOW THIS LINE\n",
    "\"\"\"\n",
    "tests.test_fully_conn(fully_conn)"
   ]
  },
  {
   "cell_type": "markdown",
   "metadata": {
    "deletable": true,
    "editable": true
   },
   "source": [
    "### Output Layer\n",
    "Implement the `output` function to apply a fully connected layer to `x_tensor` with the shape (*Batch Size*, *num_outputs*). Shortcut option: you can use classes from the [TensorFlow Layers](https://www.tensorflow.org/api_docs/python/tf/layers) or [TensorFlow Layers (contrib)](https://www.tensorflow.org/api_guides/python/contrib.layers) packages for this layer. For more of a challenge, only use other TensorFlow packages.\n",
    "\n",
    "**Note:** Activation, softmax, or cross entropy should **not** be applied to this."
   ]
  },
  {
   "cell_type": "code",
   "execution_count": 12,
   "metadata": {
    "collapsed": false,
    "deletable": true,
    "editable": true
   },
   "outputs": [
    {
     "name": "stdout",
     "output_type": "stream",
     "text": [
      "Tests Passed\n"
     ]
    }
   ],
   "source": [
    "def output(x_tensor, num_outputs):\n",
    "    \"\"\"\n",
    "    Apply a output layer to x_tensor using weight and bias\n",
    "    : x_tensor: A 2-D tensor where the first dimension is batch size.\n",
    "    : num_outputs: The number of output that the new tensor should be.\n",
    "    : return: A 2-D tensor where the second dimension is num_outputs.\n",
    "    \"\"\"\n",
    "    w_shape = [int(x_tensor.get_shape().as_list()[1]), num_outputs]\n",
    "    w = tf.Variable(tf.random_normal(w_shape, stddev=0.1))\n",
    "    b = tf.Variable(tf.zeros(num_outputs))\n",
    "    x = tf.add(tf.matmul(x_tensor, w), b)\n",
    "    return x\n",
    "\n",
    "\n",
    "\"\"\"\n",
    "DON'T MODIFY ANYTHING IN THIS CELL THAT IS BELOW THIS LINE\n",
    "\"\"\"\n",
    "tests.test_output(output)"
   ]
  },
  {
   "cell_type": "markdown",
   "metadata": {
    "deletable": true,
    "editable": true
   },
   "source": [
    "### Create Convolutional Model\n",
    "Implement the function `conv_net` to create a convolutional neural network model. The function takes in a batch of images, `x`, and outputs logits.  Use the layers you created above to create this model:\n",
    "\n",
    "* Apply 1, 2, or 3 Convolution and Max Pool layers\n",
    "* Apply a Flatten Layer\n",
    "* Apply 1, 2, or 3 Fully Connected Layers\n",
    "* Apply an Output Layer\n",
    "* Return the output\n",
    "* Apply [TensorFlow's Dropout](https://www.tensorflow.org/api_docs/python/tf/nn/dropout) to one or more layers in the model using `keep_prob`. "
   ]
  },
  {
   "cell_type": "code",
   "execution_count": 14,
   "metadata": {
    "collapsed": false,
    "deletable": true,
    "editable": true
   },
   "outputs": [
    {
     "name": "stdout",
     "output_type": "stream",
     "text": [
      "Neural Network Built!\n"
     ]
    }
   ],
   "source": [
    "def conv_net(x, keep_prob):\n",
    "    \"\"\"\n",
    "    Create a convolutional neural network model\n",
    "    : x: Placeholder tensor that holds image data.\n",
    "    : keep_prob: Placeholder tensor that hold dropout keep probability.\n",
    "    : return: Tensor that represents logits\n",
    "    \"\"\"\n",
    "    # TODO: Apply 1, 2, or 3 Convolution and Max Pool layers\n",
    "    #    Play around with different number of outputs, kernel size and stride\n",
    "    # Function Definition from Above:\n",
    "    #    conv2d_maxpool(x_tensor, conv_num_outputs, conv_ksize, conv_strides, pool_ksize, pool_strides)\n",
    "    \n",
    "    x = conv2d_maxpool(x, 32, (3, 3), (1, 1), (2, 2), (2, 2))\n",
    "    x = conv2d_maxpool(x, 32, (3, 3), (2, 2), (2, 2), (2, 2))\n",
    "    x = conv2d_maxpool(x, 64, (3, 3), (1, 1), (2, 2), (2, 2))\n",
    "    \n",
    "    # TODO: Apply a Flatten Layer\n",
    "    # Function Definition from Above:\n",
    "    #   flatten(x_tensor)\n",
    "    \n",
    "    x = flatten(x)\n",
    "\n",
    "    # TODO: Apply 1, 2, or 3 Fully Connected Layers\n",
    "    #    Play around with different number of outputs\n",
    "    # Function Definition from Above:\n",
    "    #   fully_conn(x_tensor, num_outputs)\n",
    "    \n",
    "    x = fully_conn(x, 512)\n",
    "    x = tf.nn.dropout(x, keep_prob)\n",
    "    x = fully_conn(x, 128)\n",
    "    x = tf.nn.dropout(x, keep_prob)\n",
    "    \n",
    "    # TODO: Apply an Output Layer\n",
    "    #    Set this to the number of classes\n",
    "    # Function Definition from Above:\n",
    "    #   output(x_tensor, num_outputs)\n",
    "    \n",
    "    o_p = output(x, 10)\n",
    "    \n",
    "    # TODO: return output\n",
    "    return o_p\n",
    "\n",
    "\n",
    "\"\"\"\n",
    "DON'T MODIFY ANYTHING IN THIS CELL THAT IS BELOW THIS LINE\n",
    "\"\"\"\n",
    "\n",
    "##############################\n",
    "## Build the Neural Network ##\n",
    "##############################\n",
    "\n",
    "# Remove previous weights, bias, inputs, etc..\n",
    "tf.reset_default_graph()\n",
    "\n",
    "# Inputs\n",
    "x = neural_net_image_input((32, 32, 3))\n",
    "y = neural_net_label_input(10)\n",
    "keep_prob = neural_net_keep_prob_input()\n",
    "\n",
    "# Model\n",
    "logits = conv_net(x, keep_prob)\n",
    "\n",
    "# Name logits Tensor, so that is can be loaded from disk after training\n",
    "logits = tf.identity(logits, name='logits')\n",
    "\n",
    "# Loss and Optimizer\n",
    "cost = tf.reduce_mean(tf.nn.softmax_cross_entropy_with_logits(logits=logits, labels=y))\n",
    "optimizer = tf.train.AdamOptimizer().minimize(cost)\n",
    "\n",
    "# Accuracy\n",
    "correct_pred = tf.equal(tf.argmax(logits, 1), tf.argmax(y, 1))\n",
    "accuracy = tf.reduce_mean(tf.cast(correct_pred, tf.float32), name='accuracy')\n",
    "\n",
    "tests.test_conv_net(conv_net)"
   ]
  },
  {
   "cell_type": "markdown",
   "metadata": {
    "deletable": true,
    "editable": true
   },
   "source": [
    "## Train the Neural Network\n",
    "### Single Optimization\n",
    "Implement the function `train_neural_network` to do a single optimization.  The optimization should use `optimizer` to optimize in `session` with a `feed_dict` of the following:\n",
    "* `x` for image input\n",
    "* `y` for labels\n",
    "* `keep_prob` for keep probability for dropout\n",
    "\n",
    "This function will be called for each batch, so `tf.global_variables_initializer()` has already been called.\n",
    "\n",
    "Note: Nothing needs to be returned. This function is only optimizing the neural network."
   ]
  },
  {
   "cell_type": "code",
   "execution_count": 15,
   "metadata": {
    "collapsed": false,
    "deletable": true,
    "editable": true
   },
   "outputs": [
    {
     "name": "stdout",
     "output_type": "stream",
     "text": [
      "Tests Passed\n"
     ]
    }
   ],
   "source": [
    "def train_neural_network(session, optimizer, keep_probability, feature_batch, label_batch):\n",
    "    \"\"\"\n",
    "    Optimize the session on a batch of images and labels\n",
    "    : session: Current TensorFlow session\n",
    "    : optimizer: TensorFlow optimizer function\n",
    "    : keep_probability: keep probability\n",
    "    : feature_batch: Batch of Numpy image data\n",
    "    : label_batch: Batch of Numpy label data\n",
    "    \"\"\"\n",
    "    # TODO: Implement Function\n",
    "    session.run(optimizer, feed_dict={\n",
    "        x: feature_batch,\n",
    "        y: label_batch,\n",
    "        keep_prob: keep_probability\n",
    "    })\n",
    "\n",
    "\n",
    "\"\"\"\n",
    "DON'T MODIFY ANYTHING IN THIS CELL THAT IS BELOW THIS LINE\n",
    "\"\"\"\n",
    "tests.test_train_nn(train_neural_network)"
   ]
  },
  {
   "cell_type": "markdown",
   "metadata": {
    "deletable": true,
    "editable": true
   },
   "source": [
    "### Show Stats\n",
    "Implement the function `print_stats` to print loss and validation accuracy.  Use the global variables `valid_features` and `valid_labels` to calculate validation accuracy.  Use a keep probability of `1.0` to calculate the loss and validation accuracy."
   ]
  },
  {
   "cell_type": "code",
   "execution_count": 18,
   "metadata": {
    "collapsed": false,
    "deletable": true,
    "editable": true
   },
   "outputs": [],
   "source": [
    "def print_stats(session, feature_batch, label_batch, cost, accuracy):\n",
    "    \"\"\"\n",
    "    Print information about loss and validation accuracy\n",
    "    : session: Current TensorFlow session\n",
    "    : feature_batch: Batch of Numpy image data\n",
    "    : label_batch: Batch of Numpy label data\n",
    "    : cost: TensorFlow cost function\n",
    "    : accuracy: TensorFlow accuracy function\n",
    "    \"\"\"\n",
    "    loss = session.run(cost, feed_dict={\n",
    "        x: feature_batch,\n",
    "        y: label_batch,\n",
    "        keep_prob: 1.0\n",
    "    })\n",
    "    \n",
    "    valid_accuracy = session.run(accuracy, feed_dict={\n",
    "        x: valid_features,\n",
    "        y: valid_labels,\n",
    "        keep_prob: 1.0\n",
    "    })\n",
    "\n",
    "    print('The loss is: {:>10.5f} The validation accuracy is : {:0.6f}'.format(loss, valid_accuracy))"
   ]
  },
  {
   "cell_type": "markdown",
   "metadata": {
    "deletable": true,
    "editable": true
   },
   "source": [
    "### Hyperparameters\n",
    "Tune the following parameters:\n",
    "* Set `epochs` to the number of iterations until the network stops learning or start overfitting\n",
    "* Set `batch_size` to the highest number that your machine has memory for.  Most people set them to common sizes of memory:\n",
    " * 64\n",
    " * 128\n",
    " * 256\n",
    " * ...\n",
    "* Set `keep_probability` to the probability of keeping a node using dropout"
   ]
  },
  {
   "cell_type": "code",
   "execution_count": 19,
   "metadata": {
    "collapsed": true,
    "deletable": true,
    "editable": true
   },
   "outputs": [],
   "source": [
    "# TODO: Tune Parameters\n",
    "epochs = 55\n",
    "batch_size = 256\n",
    "keep_probability = 0.5"
   ]
  },
  {
   "cell_type": "markdown",
   "metadata": {
    "deletable": true,
    "editable": true
   },
   "source": [
    "### Train on a Single CIFAR-10 Batch\n",
    "Instead of training the neural network on all the CIFAR-10 batches of data, let's use a single batch. This should save time while you iterate on the model to get a better accuracy.  Once the final validation accuracy is 50% or greater, run the model on all the data in the next section."
   ]
  },
  {
   "cell_type": "code",
   "execution_count": 20,
   "metadata": {
    "collapsed": false,
    "deletable": true,
    "editable": true
   },
   "outputs": [
    {
     "name": "stdout",
     "output_type": "stream",
     "text": [
      "Checking the Training on a Single Batch...\n",
      "Epoch  1, CIFAR-10 Batch 1:  The loss is:    2.25667 The validation accuracy is : 0.161000\n",
      "Epoch  2, CIFAR-10 Batch 1:  The loss is:    2.14058 The validation accuracy is : 0.295600\n",
      "Epoch  3, CIFAR-10 Batch 1:  The loss is:    1.97112 The validation accuracy is : 0.358200\n",
      "Epoch  4, CIFAR-10 Batch 1:  The loss is:    1.83548 The validation accuracy is : 0.385400\n",
      "Epoch  5, CIFAR-10 Batch 1:  The loss is:    1.66604 The validation accuracy is : 0.413600\n",
      "Epoch  6, CIFAR-10 Batch 1:  The loss is:    1.46288 The validation accuracy is : 0.445200\n",
      "Epoch  7, CIFAR-10 Batch 1:  The loss is:    1.34006 The validation accuracy is : 0.457200\n",
      "Epoch  8, CIFAR-10 Batch 1:  The loss is:    1.25877 The validation accuracy is : 0.461000\n",
      "Epoch  9, CIFAR-10 Batch 1:  The loss is:    1.09424 The validation accuracy is : 0.478200\n",
      "Epoch 10, CIFAR-10 Batch 1:  The loss is:    1.02702 The validation accuracy is : 0.494200\n",
      "Epoch 11, CIFAR-10 Batch 1:  The loss is:    0.96437 The validation accuracy is : 0.503800\n",
      "Epoch 12, CIFAR-10 Batch 1:  The loss is:    0.87224 The validation accuracy is : 0.498400\n",
      "Epoch 13, CIFAR-10 Batch 1:  The loss is:    0.87319 The validation accuracy is : 0.506800\n",
      "Epoch 14, CIFAR-10 Batch 1:  The loss is:    0.80214 The validation accuracy is : 0.511000\n",
      "Epoch 15, CIFAR-10 Batch 1:  The loss is:    0.68817 The validation accuracy is : 0.524600\n",
      "Epoch 16, CIFAR-10 Batch 1:  The loss is:    0.65433 The validation accuracy is : 0.526800\n",
      "Epoch 17, CIFAR-10 Batch 1:  The loss is:    0.61726 The validation accuracy is : 0.525600\n",
      "Epoch 18, CIFAR-10 Batch 1:  The loss is:    0.58786 The validation accuracy is : 0.522400\n",
      "Epoch 19, CIFAR-10 Batch 1:  The loss is:    0.53698 The validation accuracy is : 0.532000\n",
      "Epoch 20, CIFAR-10 Batch 1:  The loss is:    0.48067 The validation accuracy is : 0.529600\n",
      "Epoch 21, CIFAR-10 Batch 1:  The loss is:    0.45294 The validation accuracy is : 0.529000\n",
      "Epoch 22, CIFAR-10 Batch 1:  The loss is:    0.44751 The validation accuracy is : 0.514400\n",
      "Epoch 23, CIFAR-10 Batch 1:  The loss is:    0.44661 The validation accuracy is : 0.523600\n",
      "Epoch 24, CIFAR-10 Batch 1:  The loss is:    0.39874 The validation accuracy is : 0.520800\n",
      "Epoch 25, CIFAR-10 Batch 1:  The loss is:    0.32925 The validation accuracy is : 0.537000\n",
      "Epoch 26, CIFAR-10 Batch 1:  The loss is:    0.28974 The validation accuracy is : 0.534200\n",
      "Epoch 27, CIFAR-10 Batch 1:  The loss is:    0.29663 The validation accuracy is : 0.537000\n",
      "Epoch 28, CIFAR-10 Batch 1:  The loss is:    0.26402 The validation accuracy is : 0.535600\n",
      "Epoch 29, CIFAR-10 Batch 1:  The loss is:    0.26633 The validation accuracy is : 0.539000\n",
      "Epoch 30, CIFAR-10 Batch 1:  The loss is:    0.25603 The validation accuracy is : 0.547000\n",
      "Epoch 31, CIFAR-10 Batch 1:  The loss is:    0.22048 The validation accuracy is : 0.539800\n",
      "Epoch 32, CIFAR-10 Batch 1:  The loss is:    0.19636 The validation accuracy is : 0.553400\n",
      "Epoch 33, CIFAR-10 Batch 1:  The loss is:    0.21748 The validation accuracy is : 0.545400\n",
      "Epoch 34, CIFAR-10 Batch 1:  The loss is:    0.19103 The validation accuracy is : 0.542800\n",
      "Epoch 35, CIFAR-10 Batch 1:  The loss is:    0.18335 The validation accuracy is : 0.548200\n",
      "Epoch 36, CIFAR-10 Batch 1:  The loss is:    0.16056 The validation accuracy is : 0.545000\n",
      "Epoch 37, CIFAR-10 Batch 1:  The loss is:    0.15383 The validation accuracy is : 0.541200\n",
      "Epoch 38, CIFAR-10 Batch 1:  The loss is:    0.12524 The validation accuracy is : 0.536400\n",
      "Epoch 39, CIFAR-10 Batch 1:  The loss is:    0.12139 The validation accuracy is : 0.528800\n",
      "Epoch 40, CIFAR-10 Batch 1:  The loss is:    0.14643 The validation accuracy is : 0.512600\n",
      "Epoch 41, CIFAR-10 Batch 1:  The loss is:    0.14137 The validation accuracy is : 0.534200\n",
      "Epoch 42, CIFAR-10 Batch 1:  The loss is:    0.09546 The validation accuracy is : 0.552800\n",
      "Epoch 43, CIFAR-10 Batch 1:  The loss is:    0.10496 The validation accuracy is : 0.534000\n",
      "Epoch 44, CIFAR-10 Batch 1:  The loss is:    0.07558 The validation accuracy is : 0.557200\n",
      "Epoch 45, CIFAR-10 Batch 1:  The loss is:    0.07045 The validation accuracy is : 0.546200\n",
      "Epoch 46, CIFAR-10 Batch 1:  The loss is:    0.08542 The validation accuracy is : 0.534400\n",
      "Epoch 47, CIFAR-10 Batch 1:  The loss is:    0.08577 The validation accuracy is : 0.528200\n",
      "Epoch 48, CIFAR-10 Batch 1:  The loss is:    0.07297 The validation accuracy is : 0.524200\n",
      "Epoch 49, CIFAR-10 Batch 1:  The loss is:    0.05993 The validation accuracy is : 0.541600\n",
      "Epoch 50, CIFAR-10 Batch 1:  The loss is:    0.05153 The validation accuracy is : 0.549400\n",
      "Epoch 51, CIFAR-10 Batch 1:  The loss is:    0.04386 The validation accuracy is : 0.545400\n",
      "Epoch 52, CIFAR-10 Batch 1:  The loss is:    0.03374 The validation accuracy is : 0.547200\n",
      "Epoch 53, CIFAR-10 Batch 1:  The loss is:    0.03267 The validation accuracy is : 0.553800\n",
      "Epoch 54, CIFAR-10 Batch 1:  The loss is:    0.03220 The validation accuracy is : 0.556400\n",
      "Epoch 55, CIFAR-10 Batch 1:  The loss is:    0.03067 The validation accuracy is : 0.562200\n"
     ]
    }
   ],
   "source": [
    "\"\"\"\n",
    "DON'T MODIFY ANYTHING IN THIS CELL\n",
    "\"\"\"\n",
    "print('Checking the Training on a Single Batch...')\n",
    "with tf.Session() as sess:\n",
    "    # Initializing the variables\n",
    "    sess.run(tf.global_variables_initializer())\n",
    "    \n",
    "    # Training cycle\n",
    "    for epoch in range(epochs):\n",
    "        batch_i = 1\n",
    "        for batch_features, batch_labels in helper.load_preprocess_training_batch(batch_i, batch_size):\n",
    "            train_neural_network(sess, optimizer, keep_probability, batch_features, batch_labels)\n",
    "        print('Epoch {:>2}, CIFAR-10 Batch {}:  '.format(epoch + 1, batch_i), end='')\n",
    "        print_stats(sess, batch_features, batch_labels, cost, accuracy)"
   ]
  },
  {
   "cell_type": "markdown",
   "metadata": {
    "deletable": true,
    "editable": true
   },
   "source": [
    "### Fully Train the Model\n",
    "Now that you got a good accuracy with a single CIFAR-10 batch, try it with all five batches."
   ]
  },
  {
   "cell_type": "code",
   "execution_count": 21,
   "metadata": {
    "collapsed": false,
    "deletable": true,
    "editable": true
   },
   "outputs": [
    {
     "name": "stdout",
     "output_type": "stream",
     "text": [
      "Training...\n",
      "Epoch  1, CIFAR-10 Batch 1:  The loss is:    2.22850 The validation accuracy is : 0.159200\n",
      "Epoch  1, CIFAR-10 Batch 2:  The loss is:    2.02761 The validation accuracy is : 0.333400\n",
      "Epoch  1, CIFAR-10 Batch 3:  The loss is:    1.69564 The validation accuracy is : 0.356200\n",
      "Epoch  1, CIFAR-10 Batch 4:  The loss is:    1.65644 The validation accuracy is : 0.394400\n",
      "Epoch  1, CIFAR-10 Batch 5:  The loss is:    1.63975 The validation accuracy is : 0.409800\n",
      "Epoch  2, CIFAR-10 Batch 1:  The loss is:    1.66699 The validation accuracy is : 0.442200\n",
      "Epoch  2, CIFAR-10 Batch 2:  The loss is:    1.54716 The validation accuracy is : 0.457400\n",
      "Epoch  2, CIFAR-10 Batch 3:  The loss is:    1.34974 The validation accuracy is : 0.439600\n",
      "Epoch  2, CIFAR-10 Batch 4:  The loss is:    1.35965 The validation accuracy is : 0.478600\n",
      "Epoch  2, CIFAR-10 Batch 5:  The loss is:    1.47316 The validation accuracy is : 0.480000\n",
      "Epoch  3, CIFAR-10 Batch 1:  The loss is:    1.33092 The validation accuracy is : 0.479200\n",
      "Epoch  3, CIFAR-10 Batch 2:  The loss is:    1.29680 The validation accuracy is : 0.460400\n",
      "Epoch  3, CIFAR-10 Batch 3:  The loss is:    1.12969 The validation accuracy is : 0.503800\n",
      "Epoch  3, CIFAR-10 Batch 4:  The loss is:    1.17891 The validation accuracy is : 0.523600\n",
      "Epoch  3, CIFAR-10 Batch 5:  The loss is:    1.24777 The validation accuracy is : 0.512400\n",
      "Epoch  4, CIFAR-10 Batch 1:  The loss is:    1.15917 The validation accuracy is : 0.516000\n",
      "Epoch  4, CIFAR-10 Batch 2:  The loss is:    1.14089 The validation accuracy is : 0.513800\n",
      "Epoch  4, CIFAR-10 Batch 3:  The loss is:    0.97599 The validation accuracy is : 0.526400\n",
      "Epoch  4, CIFAR-10 Batch 4:  The loss is:    1.06764 The validation accuracy is : 0.554600\n",
      "Epoch  4, CIFAR-10 Batch 5:  The loss is:    1.14799 The validation accuracy is : 0.541200\n",
      "Epoch  5, CIFAR-10 Batch 1:  The loss is:    1.03827 The validation accuracy is : 0.533200\n",
      "Epoch  5, CIFAR-10 Batch 2:  The loss is:    1.02008 The validation accuracy is : 0.540600\n",
      "Epoch  5, CIFAR-10 Batch 3:  The loss is:    0.83283 The validation accuracy is : 0.557800\n",
      "Epoch  5, CIFAR-10 Batch 4:  The loss is:    0.90426 The validation accuracy is : 0.574400\n",
      "Epoch  5, CIFAR-10 Batch 5:  The loss is:    1.02017 The validation accuracy is : 0.571200\n",
      "Epoch  6, CIFAR-10 Batch 1:  The loss is:    0.92942 The validation accuracy is : 0.559800\n",
      "Epoch  6, CIFAR-10 Batch 2:  The loss is:    0.84652 The validation accuracy is : 0.575000\n",
      "Epoch  6, CIFAR-10 Batch 3:  The loss is:    0.76580 The validation accuracy is : 0.578800\n",
      "Epoch  6, CIFAR-10 Batch 4:  The loss is:    0.84631 The validation accuracy is : 0.588600\n",
      "Epoch  6, CIFAR-10 Batch 5:  The loss is:    0.92254 The validation accuracy is : 0.589800\n",
      "Epoch  7, CIFAR-10 Batch 1:  The loss is:    0.88401 The validation accuracy is : 0.582000\n",
      "Epoch  7, CIFAR-10 Batch 2:  The loss is:    0.79788 The validation accuracy is : 0.595600\n",
      "Epoch  7, CIFAR-10 Batch 3:  The loss is:    0.66495 The validation accuracy is : 0.599400\n",
      "Epoch  7, CIFAR-10 Batch 4:  The loss is:    0.77256 The validation accuracy is : 0.601400\n",
      "Epoch  7, CIFAR-10 Batch 5:  The loss is:    0.82545 The validation accuracy is : 0.602800\n",
      "Epoch  8, CIFAR-10 Batch 1:  The loss is:    0.83938 The validation accuracy is : 0.594600\n",
      "Epoch  8, CIFAR-10 Batch 2:  The loss is:    0.65646 The validation accuracy is : 0.600800\n",
      "Epoch  8, CIFAR-10 Batch 3:  The loss is:    0.62572 The validation accuracy is : 0.603000\n",
      "Epoch  8, CIFAR-10 Batch 4:  The loss is:    0.65771 The validation accuracy is : 0.611800\n",
      "Epoch  8, CIFAR-10 Batch 5:  The loss is:    0.74625 The validation accuracy is : 0.611000\n",
      "Epoch  9, CIFAR-10 Batch 1:  The loss is:    0.81146 The validation accuracy is : 0.599600\n",
      "Epoch  9, CIFAR-10 Batch 2:  The loss is:    0.57286 The validation accuracy is : 0.613200\n",
      "Epoch  9, CIFAR-10 Batch 3:  The loss is:    0.49016 The validation accuracy is : 0.620000\n",
      "Epoch  9, CIFAR-10 Batch 4:  The loss is:    0.59291 The validation accuracy is : 0.630200\n",
      "Epoch  9, CIFAR-10 Batch 5:  The loss is:    0.68428 The validation accuracy is : 0.617000\n",
      "Epoch 10, CIFAR-10 Batch 1:  The loss is:    0.69696 The validation accuracy is : 0.621000\n",
      "Epoch 10, CIFAR-10 Batch 2:  The loss is:    0.47667 The validation accuracy is : 0.623400\n",
      "Epoch 10, CIFAR-10 Batch 3:  The loss is:    0.45169 The validation accuracy is : 0.623000\n",
      "Epoch 10, CIFAR-10 Batch 4:  The loss is:    0.52557 The validation accuracy is : 0.633800\n",
      "Epoch 10, CIFAR-10 Batch 5:  The loss is:    0.61249 The validation accuracy is : 0.623200\n",
      "Epoch 11, CIFAR-10 Batch 1:  The loss is:    0.65288 The validation accuracy is : 0.623400\n",
      "Epoch 11, CIFAR-10 Batch 2:  The loss is:    0.41463 The validation accuracy is : 0.636400\n",
      "Epoch 11, CIFAR-10 Batch 3:  The loss is:    0.40259 The validation accuracy is : 0.624400\n",
      "Epoch 11, CIFAR-10 Batch 4:  The loss is:    0.46611 The validation accuracy is : 0.638200\n",
      "Epoch 11, CIFAR-10 Batch 5:  The loss is:    0.54183 The validation accuracy is : 0.636000\n",
      "Epoch 12, CIFAR-10 Batch 1:  The loss is:    0.60554 The validation accuracy is : 0.634800\n",
      "Epoch 12, CIFAR-10 Batch 2:  The loss is:    0.37714 The validation accuracy is : 0.640600\n",
      "Epoch 12, CIFAR-10 Batch 3:  The loss is:    0.39354 The validation accuracy is : 0.631000\n",
      "Epoch 12, CIFAR-10 Batch 4:  The loss is:    0.45480 The validation accuracy is : 0.644800\n",
      "Epoch 12, CIFAR-10 Batch 5:  The loss is:    0.47638 The validation accuracy is : 0.643000\n",
      "Epoch 13, CIFAR-10 Batch 1:  The loss is:    0.53786 The validation accuracy is : 0.642200\n",
      "Epoch 13, CIFAR-10 Batch 2:  The loss is:    0.35820 The validation accuracy is : 0.656600\n",
      "Epoch 13, CIFAR-10 Batch 3:  The loss is:    0.32282 The validation accuracy is : 0.646200\n",
      "Epoch 13, CIFAR-10 Batch 4:  The loss is:    0.39510 The validation accuracy is : 0.660400\n",
      "Epoch 13, CIFAR-10 Batch 5:  The loss is:    0.38318 The validation accuracy is : 0.658800\n",
      "Epoch 14, CIFAR-10 Batch 1:  The loss is:    0.49760 The validation accuracy is : 0.659000\n",
      "Epoch 14, CIFAR-10 Batch 2:  The loss is:    0.30181 The validation accuracy is : 0.658600\n",
      "Epoch 14, CIFAR-10 Batch 3:  The loss is:    0.30186 The validation accuracy is : 0.652600\n",
      "Epoch 14, CIFAR-10 Batch 4:  The loss is:    0.33070 The validation accuracy is : 0.651400\n",
      "Epoch 14, CIFAR-10 Batch 5:  The loss is:    0.33594 The validation accuracy is : 0.652600\n",
      "Epoch 15, CIFAR-10 Batch 1:  The loss is:    0.45247 The validation accuracy is : 0.668000\n",
      "Epoch 15, CIFAR-10 Batch 2:  The loss is:    0.27686 The validation accuracy is : 0.663600\n",
      "Epoch 15, CIFAR-10 Batch 3:  The loss is:    0.27029 The validation accuracy is : 0.659400\n",
      "Epoch 15, CIFAR-10 Batch 4:  The loss is:    0.29945 The validation accuracy is : 0.662200\n",
      "Epoch 15, CIFAR-10 Batch 5:  The loss is:    0.30763 The validation accuracy is : 0.667200\n",
      "Epoch 16, CIFAR-10 Batch 1:  The loss is:    0.41520 The validation accuracy is : 0.651200\n",
      "Epoch 16, CIFAR-10 Batch 2:  The loss is:    0.26642 The validation accuracy is : 0.667800\n",
      "Epoch 16, CIFAR-10 Batch 3:  The loss is:    0.21990 The validation accuracy is : 0.663200\n",
      "Epoch 16, CIFAR-10 Batch 4:  The loss is:    0.28526 The validation accuracy is : 0.664800\n",
      "Epoch 16, CIFAR-10 Batch 5:  The loss is:    0.27048 The validation accuracy is : 0.667200\n",
      "Epoch 17, CIFAR-10 Batch 1:  The loss is:    0.42188 The validation accuracy is : 0.656200\n",
      "Epoch 17, CIFAR-10 Batch 2:  The loss is:    0.23357 The validation accuracy is : 0.667400\n",
      "Epoch 17, CIFAR-10 Batch 3:  The loss is:    0.23566 The validation accuracy is : 0.652800\n",
      "Epoch 17, CIFAR-10 Batch 4:  The loss is:    0.25322 The validation accuracy is : 0.660200\n",
      "Epoch 17, CIFAR-10 Batch 5:  The loss is:    0.25329 The validation accuracy is : 0.668400\n",
      "Epoch 18, CIFAR-10 Batch 1:  The loss is:    0.35927 The validation accuracy is : 0.666600\n",
      "Epoch 18, CIFAR-10 Batch 2:  The loss is:    0.22051 The validation accuracy is : 0.660200\n",
      "Epoch 18, CIFAR-10 Batch 3:  The loss is:    0.21485 The validation accuracy is : 0.668600\n",
      "Epoch 18, CIFAR-10 Batch 4:  The loss is:    0.21310 The validation accuracy is : 0.669000\n",
      "Epoch 18, CIFAR-10 Batch 5:  The loss is:    0.22537 The validation accuracy is : 0.664800\n",
      "Epoch 19, CIFAR-10 Batch 1:  The loss is:    0.30889 The validation accuracy is : 0.669800\n",
      "Epoch 19, CIFAR-10 Batch 2:  The loss is:    0.21858 The validation accuracy is : 0.668600\n",
      "Epoch 19, CIFAR-10 Batch 3:  The loss is:    0.17693 The validation accuracy is : 0.654000\n",
      "Epoch 19, CIFAR-10 Batch 4:  The loss is:    0.20347 The validation accuracy is : 0.661000\n",
      "Epoch 19, CIFAR-10 Batch 5:  The loss is:    0.20957 The validation accuracy is : 0.680000\n",
      "Epoch 20, CIFAR-10 Batch 1:  The loss is:    0.28831 The validation accuracy is : 0.674000\n",
      "Epoch 20, CIFAR-10 Batch 2:  The loss is:    0.19566 The validation accuracy is : 0.664600\n",
      "Epoch 20, CIFAR-10 Batch 3:  The loss is:    0.17560 The validation accuracy is : 0.666400\n",
      "Epoch 20, CIFAR-10 Batch 4:  The loss is:    0.20459 The validation accuracy is : 0.655800\n",
      "Epoch 20, CIFAR-10 Batch 5:  The loss is:    0.21177 The validation accuracy is : 0.669400\n",
      "Epoch 21, CIFAR-10 Batch 1:  The loss is:    0.28229 The validation accuracy is : 0.663400\n",
      "Epoch 21, CIFAR-10 Batch 2:  The loss is:    0.20104 The validation accuracy is : 0.675000\n",
      "Epoch 21, CIFAR-10 Batch 3:  The loss is:    0.15604 The validation accuracy is : 0.659000\n",
      "Epoch 21, CIFAR-10 Batch 4:  The loss is:    0.19829 The validation accuracy is : 0.665600\n",
      "Epoch 21, CIFAR-10 Batch 5:  The loss is:    0.16485 The validation accuracy is : 0.673200\n",
      "Epoch 22, CIFAR-10 Batch 1:  The loss is:    0.25451 The validation accuracy is : 0.659000\n",
      "Epoch 22, CIFAR-10 Batch 2:  The loss is:    0.19318 The validation accuracy is : 0.674400\n",
      "Epoch 22, CIFAR-10 Batch 3:  The loss is:    0.16207 The validation accuracy is : 0.668000\n",
      "Epoch 22, CIFAR-10 Batch 4:  The loss is:    0.19851 The validation accuracy is : 0.678400\n",
      "Epoch 22, CIFAR-10 Batch 5:  The loss is:    0.17016 The validation accuracy is : 0.673600\n",
      "Epoch 23, CIFAR-10 Batch 1:  The loss is:    0.23809 The validation accuracy is : 0.658400\n",
      "Epoch 23, CIFAR-10 Batch 2:  The loss is:    0.19404 The validation accuracy is : 0.671800\n",
      "Epoch 23, CIFAR-10 Batch 3:  The loss is:    0.15416 The validation accuracy is : 0.645200\n",
      "Epoch 23, CIFAR-10 Batch 4:  The loss is:    0.18933 The validation accuracy is : 0.674200\n",
      "Epoch 23, CIFAR-10 Batch 5:  The loss is:    0.13396 The validation accuracy is : 0.669000\n",
      "Epoch 24, CIFAR-10 Batch 1:  The loss is:    0.20894 The validation accuracy is : 0.662800\n",
      "Epoch 24, CIFAR-10 Batch 2:  The loss is:    0.16679 The validation accuracy is : 0.680800\n",
      "Epoch 24, CIFAR-10 Batch 3:  The loss is:    0.15444 The validation accuracy is : 0.665800\n",
      "Epoch 24, CIFAR-10 Batch 4:  The loss is:    0.16794 The validation accuracy is : 0.674200\n",
      "Epoch 24, CIFAR-10 Batch 5:  The loss is:    0.13804 The validation accuracy is : 0.675200\n",
      "Epoch 25, CIFAR-10 Batch 1:  The loss is:    0.21064 The validation accuracy is : 0.681200\n",
      "Epoch 25, CIFAR-10 Batch 2:  The loss is:    0.16471 The validation accuracy is : 0.675400\n",
      "Epoch 25, CIFAR-10 Batch 3:  The loss is:    0.12069 The validation accuracy is : 0.667000\n",
      "Epoch 25, CIFAR-10 Batch 4:  The loss is:    0.14603 The validation accuracy is : 0.684600\n",
      "Epoch 25, CIFAR-10 Batch 5:  The loss is:    0.12603 The validation accuracy is : 0.676800\n",
      "Epoch 26, CIFAR-10 Batch 1:  The loss is:    0.18811 The validation accuracy is : 0.679600\n",
      "Epoch 26, CIFAR-10 Batch 2:  The loss is:    0.15050 The validation accuracy is : 0.678800\n",
      "Epoch 26, CIFAR-10 Batch 3:  The loss is:    0.10689 The validation accuracy is : 0.662000\n",
      "Epoch 26, CIFAR-10 Batch 4:  The loss is:    0.13890 The validation accuracy is : 0.680200\n",
      "Epoch 26, CIFAR-10 Batch 5:  The loss is:    0.10806 The validation accuracy is : 0.674800\n",
      "Epoch 27, CIFAR-10 Batch 1:  The loss is:    0.18420 The validation accuracy is : 0.680200\n",
      "Epoch 27, CIFAR-10 Batch 2:  The loss is:    0.14563 The validation accuracy is : 0.682600\n",
      "Epoch 27, CIFAR-10 Batch 3:  The loss is:    0.11229 The validation accuracy is : 0.674600\n",
      "Epoch 27, CIFAR-10 Batch 4:  The loss is:    0.14131 The validation accuracy is : 0.682400\n",
      "Epoch 27, CIFAR-10 Batch 5:  The loss is:    0.11860 The validation accuracy is : 0.675400\n",
      "Epoch 28, CIFAR-10 Batch 1:  The loss is:    0.18194 The validation accuracy is : 0.677200\n",
      "Epoch 28, CIFAR-10 Batch 2:  The loss is:    0.12269 The validation accuracy is : 0.680200\n",
      "Epoch 28, CIFAR-10 Batch 3:  The loss is:    0.10628 The validation accuracy is : 0.685200\n",
      "Epoch 28, CIFAR-10 Batch 4:  The loss is:    0.10872 The validation accuracy is : 0.684200\n",
      "Epoch 28, CIFAR-10 Batch 5:  The loss is:    0.12033 The validation accuracy is : 0.671000\n",
      "Epoch 29, CIFAR-10 Batch 1:  The loss is:    0.13153 The validation accuracy is : 0.685000\n",
      "Epoch 29, CIFAR-10 Batch 2:  The loss is:    0.11667 The validation accuracy is : 0.684600\n",
      "Epoch 29, CIFAR-10 Batch 3:  The loss is:    0.09935 The validation accuracy is : 0.686400\n",
      "Epoch 29, CIFAR-10 Batch 4:  The loss is:    0.09480 The validation accuracy is : 0.687600\n",
      "Epoch 29, CIFAR-10 Batch 5:  The loss is:    0.09101 The validation accuracy is : 0.682600\n",
      "Epoch 30, CIFAR-10 Batch 1:  The loss is:    0.15001 The validation accuracy is : 0.673800\n",
      "Epoch 30, CIFAR-10 Batch 2:  The loss is:    0.12106 The validation accuracy is : 0.689800\n",
      "Epoch 30, CIFAR-10 Batch 3:  The loss is:    0.08489 The validation accuracy is : 0.679400\n",
      "Epoch 30, CIFAR-10 Batch 4:  The loss is:    0.10663 The validation accuracy is : 0.673800\n",
      "Epoch 30, CIFAR-10 Batch 5:  The loss is:    0.08971 The validation accuracy is : 0.684200\n",
      "Epoch 31, CIFAR-10 Batch 1:  The loss is:    0.10581 The validation accuracy is : 0.682800\n",
      "Epoch 31, CIFAR-10 Batch 2:  The loss is:    0.11540 The validation accuracy is : 0.671600\n",
      "Epoch 31, CIFAR-10 Batch 3:  The loss is:    0.10969 The validation accuracy is : 0.678600\n",
      "Epoch 31, CIFAR-10 Batch 4:  The loss is:    0.10134 The validation accuracy is : 0.680000\n",
      "Epoch 31, CIFAR-10 Batch 5:  The loss is:    0.08273 The validation accuracy is : 0.687200\n",
      "Epoch 32, CIFAR-10 Batch 1:  The loss is:    0.11464 The validation accuracy is : 0.681400\n",
      "Epoch 32, CIFAR-10 Batch 2:  The loss is:    0.11850 The validation accuracy is : 0.675400\n",
      "Epoch 32, CIFAR-10 Batch 3:  The loss is:    0.09665 The validation accuracy is : 0.685600\n",
      "Epoch 32, CIFAR-10 Batch 4:  The loss is:    0.09933 The validation accuracy is : 0.672400\n",
      "Epoch 32, CIFAR-10 Batch 5:  The loss is:    0.07827 The validation accuracy is : 0.690200\n",
      "Epoch 33, CIFAR-10 Batch 1:  The loss is:    0.11746 The validation accuracy is : 0.679600\n",
      "Epoch 33, CIFAR-10 Batch 2:  The loss is:    0.09954 The validation accuracy is : 0.680600\n",
      "Epoch 33, CIFAR-10 Batch 3:  The loss is:    0.07452 The validation accuracy is : 0.682600\n",
      "Epoch 33, CIFAR-10 Batch 4:  The loss is:    0.08568 The validation accuracy is : 0.670600\n",
      "Epoch 33, CIFAR-10 Batch 5:  The loss is:    0.07401 The validation accuracy is : 0.690600\n",
      "Epoch 34, CIFAR-10 Batch 1:  The loss is:    0.10289 The validation accuracy is : 0.681000\n",
      "Epoch 34, CIFAR-10 Batch 2:  The loss is:    0.09819 The validation accuracy is : 0.675000\n",
      "Epoch 34, CIFAR-10 Batch 3:  The loss is:    0.06604 The validation accuracy is : 0.680000\n",
      "Epoch 34, CIFAR-10 Batch 4:  The loss is:    0.08581 The validation accuracy is : 0.667200\n",
      "Epoch 34, CIFAR-10 Batch 5:  The loss is:    0.06200 The validation accuracy is : 0.683200\n",
      "Epoch 35, CIFAR-10 Batch 1:  The loss is:    0.10831 The validation accuracy is : 0.673200\n",
      "Epoch 35, CIFAR-10 Batch 2:  The loss is:    0.10796 The validation accuracy is : 0.671800\n",
      "Epoch 35, CIFAR-10 Batch 3:  The loss is:    0.06674 The validation accuracy is : 0.683600\n",
      "Epoch 35, CIFAR-10 Batch 4:  The loss is:    0.07162 The validation accuracy is : 0.677800\n",
      "Epoch 35, CIFAR-10 Batch 5:  The loss is:    0.05203 The validation accuracy is : 0.683600\n",
      "Epoch 36, CIFAR-10 Batch 1:  The loss is:    0.10811 The validation accuracy is : 0.677200\n",
      "Epoch 36, CIFAR-10 Batch 2:  The loss is:    0.07761 The validation accuracy is : 0.670000\n",
      "Epoch 36, CIFAR-10 Batch 3:  The loss is:    0.06460 The validation accuracy is : 0.691400\n",
      "Epoch 36, CIFAR-10 Batch 4:  The loss is:    0.06879 The validation accuracy is : 0.678400\n",
      "Epoch 36, CIFAR-10 Batch 5:  The loss is:    0.05283 The validation accuracy is : 0.688000\n",
      "Epoch 37, CIFAR-10 Batch 1:  The loss is:    0.08354 The validation accuracy is : 0.681200\n",
      "Epoch 37, CIFAR-10 Batch 2:  The loss is:    0.06633 The validation accuracy is : 0.684400\n",
      "Epoch 37, CIFAR-10 Batch 3:  The loss is:    0.07625 The validation accuracy is : 0.689800\n",
      "Epoch 37, CIFAR-10 Batch 4:  The loss is:    0.08126 The validation accuracy is : 0.680000\n",
      "Epoch 37, CIFAR-10 Batch 5:  The loss is:    0.05246 The validation accuracy is : 0.684200\n",
      "Epoch 38, CIFAR-10 Batch 1:  The loss is:    0.10414 The validation accuracy is : 0.676800\n",
      "Epoch 38, CIFAR-10 Batch 2:  The loss is:    0.07439 The validation accuracy is : 0.692000\n",
      "Epoch 38, CIFAR-10 Batch 3:  The loss is:    0.06379 The validation accuracy is : 0.692600\n",
      "Epoch 38, CIFAR-10 Batch 4:  The loss is:    0.06833 The validation accuracy is : 0.678800\n",
      "Epoch 38, CIFAR-10 Batch 5:  The loss is:    0.05414 The validation accuracy is : 0.682200\n",
      "Epoch 39, CIFAR-10 Batch 1:  The loss is:    0.11816 The validation accuracy is : 0.672000\n",
      "Epoch 39, CIFAR-10 Batch 2:  The loss is:    0.10229 The validation accuracy is : 0.677400\n",
      "Epoch 39, CIFAR-10 Batch 3:  The loss is:    0.06340 The validation accuracy is : 0.685600\n",
      "Epoch 39, CIFAR-10 Batch 4:  The loss is:    0.06931 The validation accuracy is : 0.681600\n",
      "Epoch 39, CIFAR-10 Batch 5:  The loss is:    0.05065 The validation accuracy is : 0.691000\n",
      "Epoch 40, CIFAR-10 Batch 1:  The loss is:    0.12264 The validation accuracy is : 0.657000\n",
      "Epoch 40, CIFAR-10 Batch 2:  The loss is:    0.07556 The validation accuracy is : 0.673200\n",
      "Epoch 40, CIFAR-10 Batch 3:  The loss is:    0.06905 The validation accuracy is : 0.677400\n",
      "Epoch 40, CIFAR-10 Batch 4:  The loss is:    0.07378 The validation accuracy is : 0.678000\n",
      "Epoch 40, CIFAR-10 Batch 5:  The loss is:    0.05156 The validation accuracy is : 0.690600\n",
      "Epoch 41, CIFAR-10 Batch 1:  The loss is:    0.12989 The validation accuracy is : 0.651400\n",
      "Epoch 41, CIFAR-10 Batch 2:  The loss is:    0.07732 The validation accuracy is : 0.675800\n",
      "Epoch 41, CIFAR-10 Batch 3:  The loss is:    0.05157 The validation accuracy is : 0.684800\n",
      "Epoch 41, CIFAR-10 Batch 4:  The loss is:    0.05338 The validation accuracy is : 0.665400\n",
      "Epoch 41, CIFAR-10 Batch 5:  The loss is:    0.06199 The validation accuracy is : 0.676400\n",
      "Epoch 42, CIFAR-10 Batch 1:  The loss is:    0.09584 The validation accuracy is : 0.656600\n",
      "Epoch 42, CIFAR-10 Batch 2:  The loss is:    0.08396 The validation accuracy is : 0.659200\n",
      "Epoch 42, CIFAR-10 Batch 3:  The loss is:    0.05739 The validation accuracy is : 0.681400\n",
      "Epoch 42, CIFAR-10 Batch 4:  The loss is:    0.06534 The validation accuracy is : 0.665800\n",
      "Epoch 42, CIFAR-10 Batch 5:  The loss is:    0.05289 The validation accuracy is : 0.679800\n",
      "Epoch 43, CIFAR-10 Batch 1:  The loss is:    0.08215 The validation accuracy is : 0.654200\n",
      "Epoch 43, CIFAR-10 Batch 2:  The loss is:    0.05229 The validation accuracy is : 0.669000\n",
      "Epoch 43, CIFAR-10 Batch 3:  The loss is:    0.04446 The validation accuracy is : 0.684000\n",
      "Epoch 43, CIFAR-10 Batch 4:  The loss is:    0.06713 The validation accuracy is : 0.668400\n",
      "Epoch 43, CIFAR-10 Batch 5:  The loss is:    0.07378 The validation accuracy is : 0.677800\n",
      "Epoch 44, CIFAR-10 Batch 1:  The loss is:    0.06135 The validation accuracy is : 0.678600\n",
      "Epoch 44, CIFAR-10 Batch 2:  The loss is:    0.05546 The validation accuracy is : 0.674000\n",
      "Epoch 44, CIFAR-10 Batch 3:  The loss is:    0.04040 The validation accuracy is : 0.689600\n",
      "Epoch 44, CIFAR-10 Batch 4:  The loss is:    0.05238 The validation accuracy is : 0.669000\n",
      "Epoch 44, CIFAR-10 Batch 5:  The loss is:    0.06152 The validation accuracy is : 0.673000\n",
      "Epoch 45, CIFAR-10 Batch 1:  The loss is:    0.06634 The validation accuracy is : 0.687200\n",
      "Epoch 45, CIFAR-10 Batch 2:  The loss is:    0.04488 The validation accuracy is : 0.671400\n",
      "Epoch 45, CIFAR-10 Batch 3:  The loss is:    0.03576 The validation accuracy is : 0.688400\n",
      "Epoch 45, CIFAR-10 Batch 4:  The loss is:    0.05296 The validation accuracy is : 0.662600\n",
      "Epoch 45, CIFAR-10 Batch 5:  The loss is:    0.05925 The validation accuracy is : 0.678600\n",
      "Epoch 46, CIFAR-10 Batch 1:  The loss is:    0.04854 The validation accuracy is : 0.684200\n",
      "Epoch 46, CIFAR-10 Batch 2:  The loss is:    0.04179 The validation accuracy is : 0.680000\n",
      "Epoch 46, CIFAR-10 Batch 3:  The loss is:    0.05523 The validation accuracy is : 0.683200\n",
      "Epoch 46, CIFAR-10 Batch 4:  The loss is:    0.04039 The validation accuracy is : 0.662800\n",
      "Epoch 46, CIFAR-10 Batch 5:  The loss is:    0.04186 The validation accuracy is : 0.689200\n",
      "Epoch 47, CIFAR-10 Batch 1:  The loss is:    0.06202 The validation accuracy is : 0.679600\n",
      "Epoch 47, CIFAR-10 Batch 2:  The loss is:    0.04525 The validation accuracy is : 0.678400\n",
      "Epoch 47, CIFAR-10 Batch 3:  The loss is:    0.04667 The validation accuracy is : 0.691600\n",
      "Epoch 47, CIFAR-10 Batch 4:  The loss is:    0.04228 The validation accuracy is : 0.673400\n",
      "Epoch 47, CIFAR-10 Batch 5:  The loss is:    0.04458 The validation accuracy is : 0.685600\n",
      "Epoch 48, CIFAR-10 Batch 1:  The loss is:    0.05563 The validation accuracy is : 0.670200\n",
      "Epoch 48, CIFAR-10 Batch 2:  The loss is:    0.05222 The validation accuracy is : 0.679600\n",
      "Epoch 48, CIFAR-10 Batch 3:  The loss is:    0.04456 The validation accuracy is : 0.685000\n",
      "Epoch 48, CIFAR-10 Batch 4:  The loss is:    0.03940 The validation accuracy is : 0.672200\n",
      "Epoch 48, CIFAR-10 Batch 5:  The loss is:    0.03678 The validation accuracy is : 0.687200\n",
      "Epoch 49, CIFAR-10 Batch 1:  The loss is:    0.06805 The validation accuracy is : 0.678200\n",
      "Epoch 49, CIFAR-10 Batch 2:  The loss is:    0.04085 The validation accuracy is : 0.676600\n",
      "Epoch 49, CIFAR-10 Batch 3:  The loss is:    0.04925 The validation accuracy is : 0.674800\n",
      "Epoch 49, CIFAR-10 Batch 4:  The loss is:    0.03904 The validation accuracy is : 0.680200\n",
      "Epoch 49, CIFAR-10 Batch 5:  The loss is:    0.03871 The validation accuracy is : 0.683800\n",
      "Epoch 50, CIFAR-10 Batch 1:  The loss is:    0.05507 The validation accuracy is : 0.672400\n",
      "Epoch 50, CIFAR-10 Batch 2:  The loss is:    0.03654 The validation accuracy is : 0.675600\n",
      "Epoch 50, CIFAR-10 Batch 3:  The loss is:    0.05450 The validation accuracy is : 0.686400\n",
      "Epoch 50, CIFAR-10 Batch 4:  The loss is:    0.03882 The validation accuracy is : 0.683200\n",
      "Epoch 50, CIFAR-10 Batch 5:  The loss is:    0.02373 The validation accuracy is : 0.683400\n",
      "Epoch 51, CIFAR-10 Batch 1:  The loss is:    0.05956 The validation accuracy is : 0.675200\n",
      "Epoch 51, CIFAR-10 Batch 2:  The loss is:    0.05260 The validation accuracy is : 0.668800\n",
      "Epoch 51, CIFAR-10 Batch 3:  The loss is:    0.06512 The validation accuracy is : 0.685400\n",
      "Epoch 51, CIFAR-10 Batch 4:  The loss is:    0.04701 The validation accuracy is : 0.660400\n",
      "Epoch 51, CIFAR-10 Batch 5:  The loss is:    0.02858 The validation accuracy is : 0.684800\n",
      "Epoch 52, CIFAR-10 Batch 1:  The loss is:    0.04632 The validation accuracy is : 0.683200\n",
      "Epoch 52, CIFAR-10 Batch 2:  The loss is:    0.04013 The validation accuracy is : 0.671800\n",
      "Epoch 52, CIFAR-10 Batch 3:  The loss is:    0.06193 The validation accuracy is : 0.687000\n",
      "Epoch 52, CIFAR-10 Batch 4:  The loss is:    0.03235 The validation accuracy is : 0.683600\n",
      "Epoch 52, CIFAR-10 Batch 5:  The loss is:    0.02149 The validation accuracy is : 0.680000\n",
      "Epoch 53, CIFAR-10 Batch 1:  The loss is:    0.05449 The validation accuracy is : 0.678800\n",
      "Epoch 53, CIFAR-10 Batch 2:  The loss is:    0.04254 The validation accuracy is : 0.667200\n",
      "Epoch 53, CIFAR-10 Batch 3:  The loss is:    0.03682 The validation accuracy is : 0.688600\n",
      "Epoch 53, CIFAR-10 Batch 4:  The loss is:    0.02812 The validation accuracy is : 0.688800\n",
      "Epoch 53, CIFAR-10 Batch 5:  The loss is:    0.01961 The validation accuracy is : 0.691400\n",
      "Epoch 54, CIFAR-10 Batch 1:  The loss is:    0.04053 The validation accuracy is : 0.682000\n",
      "Epoch 54, CIFAR-10 Batch 2:  The loss is:    0.03985 The validation accuracy is : 0.677400\n",
      "Epoch 54, CIFAR-10 Batch 3:  The loss is:    0.05741 The validation accuracy is : 0.682600\n",
      "Epoch 54, CIFAR-10 Batch 4:  The loss is:    0.02284 The validation accuracy is : 0.690200\n",
      "Epoch 54, CIFAR-10 Batch 5:  The loss is:    0.02161 The validation accuracy is : 0.667400\n",
      "Epoch 55, CIFAR-10 Batch 1:  The loss is:    0.04777 The validation accuracy is : 0.682000\n",
      "Epoch 55, CIFAR-10 Batch 2:  The loss is:    0.03225 The validation accuracy is : 0.667400\n",
      "Epoch 55, CIFAR-10 Batch 3:  The loss is:    0.03404 The validation accuracy is : 0.684600\n",
      "Epoch 55, CIFAR-10 Batch 4:  The loss is:    0.03250 The validation accuracy is : 0.678200\n",
      "Epoch 55, CIFAR-10 Batch 5:  The loss is:    0.02119 The validation accuracy is : 0.668400\n"
     ]
    }
   ],
   "source": [
    "\"\"\"\n",
    "DON'T MODIFY ANYTHING IN THIS CELL\n",
    "\"\"\"\n",
    "save_model_path = './image_classification'\n",
    "\n",
    "print('Training...')\n",
    "with tf.Session() as sess:\n",
    "    # Initializing the variables\n",
    "    sess.run(tf.global_variables_initializer())\n",
    "    \n",
    "    # Training cycle\n",
    "    for epoch in range(epochs):\n",
    "        # Loop over all batches\n",
    "        n_batches = 5\n",
    "        for batch_i in range(1, n_batches + 1):\n",
    "            for batch_features, batch_labels in helper.load_preprocess_training_batch(batch_i, batch_size):\n",
    "                train_neural_network(sess, optimizer, keep_probability, batch_features, batch_labels)\n",
    "            print('Epoch {:>2}, CIFAR-10 Batch {}:  '.format(epoch + 1, batch_i), end='')\n",
    "            print_stats(sess, batch_features, batch_labels, cost, accuracy)\n",
    "            \n",
    "    # Save Model\n",
    "    saver = tf.train.Saver()\n",
    "    save_path = saver.save(sess, save_model_path)"
   ]
  },
  {
   "cell_type": "markdown",
   "metadata": {
    "deletable": true,
    "editable": true
   },
   "source": [
    "# Checkpoint\n",
    "The model has been saved to disk.\n",
    "## Test Model\n",
    "Test your model against the test dataset.  This will be your final accuracy. You should have an accuracy greater than 50%. If you don't, keep tweaking the model architecture and parameters."
   ]
  },
  {
   "cell_type": "code",
   "execution_count": 22,
   "metadata": {
    "collapsed": false,
    "deletable": true,
    "editable": true
   },
   "outputs": [
    {
     "name": "stdout",
     "output_type": "stream",
     "text": [
      "Testing Accuracy: 0.6572265625\n",
      "\n"
     ]
    },
    {
     "data": {
      "image/png": "[encoded data removed]",
      "text/plain": [
       "<matplotlib.figure.Figure at 0x7f8eb3fe37f0>"
      ]
     },
     "metadata": {
      "image/png": {
       "height": 319,
       "width": 355
      }
     },
     "output_type": "display_data"
    }
   ],
   "source": [
    "\"\"\"\n",
    "DON'T MODIFY ANYTHING IN THIS CELL\n",
    "\"\"\"\n",
    "%matplotlib inline\n",
    "%config InlineBackend.figure_format = 'retina'\n",
    "\n",
    "import tensorflow as tf\n",
    "import pickle\n",
    "import helper\n",
    "import random\n",
    "\n",
    "# Set batch size if not already set\n",
    "try:\n",
    "    if batch_size:\n",
    "        pass\n",
    "except NameError:\n",
    "    batch_size = 64\n",
    "\n",
    "save_model_path = './image_classification'\n",
    "n_samples = 4\n",
    "top_n_predictions = 3\n",
    "\n",
    "def test_model():\n",
    "    \"\"\"\n",
    "    Test the saved model against the test dataset\n",
    "    \"\"\"\n",
    "\n",
    "    test_features, test_labels = pickle.load(open('preprocess_training.p', mode='rb'))\n",
    "    loaded_graph = tf.Graph()\n",
    "\n",
    "    with tf.Session(graph=loaded_graph) as sess:\n",
    "        # Load model\n",
    "        loader = tf.train.import_meta_graph(save_model_path + '.meta')\n",
    "        loader.restore(sess, save_model_path)\n",
    "\n",
    "        # Get Tensors from loaded model\n",
    "        loaded_x = loaded_graph.get_tensor_by_name('x:0')\n",
    "        loaded_y = loaded_graph.get_tensor_by_name('y:0')\n",
    "        loaded_keep_prob = loaded_graph.get_tensor_by_name('keep_prob:0')\n",
    "        loaded_logits = loaded_graph.get_tensor_by_name('logits:0')\n",
    "        loaded_acc = loaded_graph.get_tensor_by_name('accuracy:0')\n",
    "        \n",
    "        # Get accuracy in batches for memory limitations\n",
    "        test_batch_acc_total = 0\n",
    "        test_batch_count = 0\n",
    "        \n",
    "        for train_feature_batch, train_label_batch in helper.batch_features_labels(test_features, test_labels, batch_size):\n",
    "            test_batch_acc_total += sess.run(\n",
    "                loaded_acc,\n",
    "                feed_dict={loaded_x: train_feature_batch, loaded_y: train_label_batch, loaded_keep_prob: 1.0})\n",
    "            test_batch_count += 1\n",
    "\n",
    "        print('Testing Accuracy: {}\\n'.format(test_batch_acc_total/test_batch_count))\n",
    "\n",
    "        # Print Random Samples\n",
    "        random_test_features, random_test_labels = tuple(zip(*random.sample(list(zip(test_features, test_labels)), n_samples)))\n",
    "        random_test_predictions = sess.run(\n",
    "            tf.nn.top_k(tf.nn.softmax(loaded_logits), top_n_predictions),\n",
    "            feed_dict={loaded_x: random_test_features, loaded_y: random_test_labels, loaded_keep_prob: 1.0})\n",
    "        helper.display_image_predictions(random_test_features, random_test_labels, random_test_predictions)\n",
    "\n",
    "\n",
    "test_model()"
   ]
  },
  {
   "cell_type": "markdown",
   "metadata": {
    "deletable": true,
    "editable": true
   },
   "source": [
    "## Why 50-70% Accuracy?\n",
    "You might be wondering why you can't get an accuracy any higher. First things first, 50% isn't bad for a simple CNN.  Pure guessing would get you 10% accuracy. However, you might notice people are getting scores [well above 70%](http://rodrigob.github.io/are_we_there_yet/build/classification_datasets_results.html#43494641522d3130).  That's because we haven't taught you all there is to know about neural networks. We still need to cover a few more techniques.\n",
    "## Submitting This Project\n",
    "When submitting this project, make sure to run all the cells before saving the notebook.  Save the notebook file as \"dlnd_image_classification.ipynb\" and save it as a HTML file under \"File\" -> \"Download as\".  Include the \"helper.py\" and \"problem_unittests.py\" files in your submission."
   ]
  }
 ],
 "metadata": {
  "kernelspec": {
   "display_name": "Python 3",
   "language": "python",
   "name": "python3"
  },
  "language_info": {
   "codemirror_mode": {
    "name": "ipython",
    "version": 3
   },
   "file_extension": ".py",
   "mimetype": "text/x-python",
   "name": "python",
   "nbconvert_exporter": "python",
   "pygments_lexer": "ipython3",
   "version": "3.5.3"
  }
 },
 "nbformat": 4,
 "nbformat_minor": 0
}
